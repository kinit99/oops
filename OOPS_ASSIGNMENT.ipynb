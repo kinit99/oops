{
  "nbformat": 4,
  "nbformat_minor": 0,
  "metadata": {
    "colab": {
      "provenance": []
    },
    "kernelspec": {
      "name": "python3",
      "display_name": "Python 3"
    },
    "language_info": {
      "name": "python"
    }
  },
  "cells": [
    {
      "cell_type": "markdown",
      "source": [
        "**QUES 01.What are the five key concepts of Object-Oriented Programming (OOP)?**"
      ],
      "metadata": {
        "id": "xQlla2RsrQuF"
      }
    },
    {
      "cell_type": "markdown",
      "source": [
        "**ANSWER 01.** The five key concepts of Object-Oriented Programming (OOP) are:\n",
        "\n",
        "Encapsulation: This is the bundling of data (attributes) and methods (functions) that operate on the data into a single unit or class. It also involves restricting direct access to some of the object's components, which is a way of enforcing modularity and protecting the internal state of the object.\n",
        "\n",
        "Abstraction: Abstraction focuses on simplifying complex systems by breaking them into more manageable parts, hiding unnecessary details, and exposing only the essential aspects. This allows the programmer to interact with objects at a higher level of complexity without needing to understand all the internal workings.\n",
        "\n",
        "Inheritance: This allows a new class to inherit properties and behaviors (methods) from an existing class. The new class, called a subclass or derived class, can add or override features of the parent class, promoting code reuse and logical hierarchy.\n",
        "\n",
        "Polymorphism: Polymorphism allows objects of different classes to be treated as objects of a common superclass. It enables one interface to be used for a general class of actions, making the code more flexible and reusable. Polymorphism is often achieved through method overriding or method overloading.\n",
        "\n",
        "Composition: Often considered an important concept in OOP, composition is the principle where objects are made up of other objects. This promotes a \"has-a\" relationship, where complex objects are composed of smaller, simpler objects, leading to modular design and reuse of components."
      ],
      "metadata": {
        "id": "4LymnheKrX6W"
      }
    },
    {
      "cell_type": "markdown",
      "source": [
        "**QUES 02.** Write a Python class for a Car with attributes for make, model, and year. Include a method to display the car's information."
      ],
      "metadata": {
        "id": "g6DcORNzrk5p"
      }
    },
    {
      "cell_type": "code",
      "source": [
        "#ANSWER 02.\n",
        "class Car:\n",
        "    def __init__(self, make, model, year):\n",
        "        self.make = make\n",
        "        self.model = model\n",
        "        self.year = year\n",
        "\n",
        "    def display_info(self):\n",
        "        print(f\"Car Information: {self.year} {self.make} {self.model}\")\n",
        "\n",
        "# Example usage:\n",
        "my_car = Car(\"Toyota\", \"Camry\", 2020)\n",
        "my_car.display_info()"
      ],
      "metadata": {
        "colab": {
          "base_uri": "https://localhost:8080/"
        },
        "id": "5HeF2zFS3pKx",
        "outputId": "ce98be25-ce76-4b43-df58-f47a61fa4965"
      },
      "execution_count": 1,
      "outputs": [
        {
          "output_type": "stream",
          "name": "stdout",
          "text": [
            "Car Information: 2020 Toyota Camry\n"
          ]
        }
      ]
    },
    {
      "cell_type": "markdown",
      "source": [
        "**QUES 03.** Explain the difference between instance methods and class methods. Provide an example of each.\n",
        "\n"
      ],
      "metadata": {
        "id": "XR_Lrrvc38fT"
      }
    },
    {
      "cell_type": "code",
      "source": [
        "# ANSWER 03\n",
        "#The key difference between instance methods and class methods in Python is how they operate on the class or its instances:\n",
        "\n",
        "#1. Instance Methods:\n",
        "#Operate on instances of the class.\n",
        "#Can access and modify the instance's attributes.\n",
        "#Always take self as the first parameter, which represents the instance of the class.\n",
        "#Example of an Instance Method:\n",
        "\n",
        "#python\n",
        "#Copy code\n",
        "class Dog:\n",
        "    def __init__(self, name, breed):\n",
        "        self.name = name\n",
        "        self.breed = breed\n",
        "\n",
        "    # Instance method\n",
        "    def bark(self):\n",
        "        print(f\"{self.name} is barking!\")\n",
        "\n",
        "# Create an instance of Dog\n",
        "my_dog = Dog(\"Buddy\", \"Golden Retriever\")\n",
        "my_dog.bark()  # Output: Buddy is barking!\n",
        "#2. Class Methods:\n",
        "#Operate on the class itself, not the instance.\n",
        "#Use cls as the first parameter, which refers to the class.\n",
        "#Can modify class-level attributes and call other class methods.\n",
        "#Decorated with @classmethod.\n",
        "#Example of a Class Method:\n",
        "\n",
        "#python\n",
        "#Copy code\n",
        "class Dog:\n",
        "    species = \"Canis lupus familiaris\"  # Class attribute\n",
        "\n",
        "    def __init__(self, name, breed):\n",
        "        self.name = name\n",
        "        self.breed = breed\n",
        "\n",
        "    # Class method\n",
        "    @classmethod\n",
        "    def get_species(cls):\n",
        "        print(f\"All dogs are part of the species: {cls.species}\")\n",
        "\n",
        "# Call the class method\n",
        "Dog.get_species()  # Output: All dogs are part of the species: Canis lupus familiaris\n",
        "#Key Differences:\n",
        "#Instance methods operate on an instance of the class and can access/modify the instance's state.\n",
        "#Class methods operate on the class as a whole and are typically used for operations related to the class, rather than individual instances."
      ],
      "metadata": {
        "colab": {
          "base_uri": "https://localhost:8080/"
        },
        "id": "NXWekWNQ4Ajq",
        "outputId": "44e24d15-4180-4791-bb8e-643e8d139263"
      },
      "execution_count": 2,
      "outputs": [
        {
          "output_type": "stream",
          "name": "stdout",
          "text": [
            "Buddy is barking!\n",
            "All dogs are part of the species: Canis lupus familiaris\n"
          ]
        }
      ]
    },
    {
      "cell_type": "markdown",
      "source": [
        "**QUES 04.** How does Python implement method overloading? Give an example."
      ],
      "metadata": {
        "id": "qGhmiYxA4h5_"
      }
    },
    {
      "cell_type": "code",
      "source": [
        "# ANSWER 04.\n",
        "#Python does not directly support method overloading like some other languages. Instead, it achieves similar functionality through default arguments or by using *args and **kwargs to handle different numbers or types of arguments in a single method.\n",
        "\n",
        "#Example using default arguments:\n",
        "#python\n",
        "#Copy code\n",
        "class Calculator:\n",
        "    def add(self, a, b=0, c=0):\n",
        "        return a + b + c\n",
        "\n",
        "# Example usage\n",
        "calc = Calculator()\n",
        "print(calc.add(5))\n",
        "print(calc.add(5, 3))\n",
        "print(calc.add(5, 3, 2))"
      ],
      "metadata": {
        "colab": {
          "base_uri": "https://localhost:8080/"
        },
        "id": "nAA51vFQ4z2q",
        "outputId": "7e3e3c66-36f0-48e5-dc33-b9d8abd149fb"
      },
      "execution_count": 3,
      "outputs": [
        {
          "output_type": "stream",
          "name": "stdout",
          "text": [
            "5\n",
            "8\n",
            "10\n"
          ]
        }
      ]
    },
    {
      "cell_type": "markdown",
      "source": [
        "**QUES 05.** What are the three types of access modifiers in Python? How are they denoted?"
      ],
      "metadata": {
        "id": "zkm-Yzoi5FUh"
      }
    },
    {
      "cell_type": "markdown",
      "source": [
        "**ANSWER 05.**In Python, the three types of access modifiers are:\n",
        "\n",
        "Public: Accessible from anywhere. Denoted by a regular attribute name (e.g., self.name).\n",
        "\n",
        "Protected: Intended for internal use in the class and its subclasses. Denoted by a single leading underscore (e.g., self._name).\n",
        "\n",
        "Private: Accessible only within the class. Denoted by a double leading underscore (e.g., self.__name)."
      ],
      "metadata": {
        "id": "JcPuIrVo5VYx"
      }
    },
    {
      "cell_type": "markdown",
      "source": [
        "**QUES 06**.  Describe the five types of inheritance in Python. Provide a simple example of multiple inheritance."
      ],
      "metadata": {
        "id": "t6uU5z--5beB"
      }
    },
    {
      "cell_type": "markdown",
      "source": [
        "**ANSWER 06**Five Types of Inheritance in Python:\n",
        "\n",
        "Single Inheritance: A class inherits from one base class.\n",
        "\n",
        "Multiple Inheritance: A class inherits from more than one base class.\n",
        "\n",
        "Multilevel Inheritance: A class inherits from a derived class, forming a chain.\n",
        "\n",
        "Hierarchical Inheritance: Multiple classes inherit from a single base class.\n",
        "\n",
        "Hybrid Inheritance: A combination of two or more types of inheritance.\n",
        "\n",
        "Example of Multiple Inheritance:"
      ],
      "metadata": {
        "id": "rsQU37Oh5lvh"
      }
    },
    {
      "cell_type": "code",
      "source": [
        "class Parent1:\n",
        "    def method1(self):\n",
        "        print(\"Method from Parent1\")\n",
        "\n",
        "class Parent2:\n",
        "    def method2(self):\n",
        "        print(\"Method from Parent2\")\n",
        "\n",
        "class Child(Parent1, Parent2):\n",
        "    pass"
      ],
      "metadata": {
        "id": "ixtvobd653ZH"
      },
      "execution_count": 4,
      "outputs": []
    },
    {
      "cell_type": "markdown",
      "source": [
        "**QUES 07.**What is the Method Resolution Order (MRO) in Python? How can you retrieve it programmatically?"
      ],
      "metadata": {
        "id": "cXU4oPuu58C7"
      }
    },
    {
      "cell_type": "markdown",
      "source": [
        "**ANSWER 07** The Method Resolution Order (MRO) in Python defines the order in which methods are searched for in a class hierarchy during inheritance, especially with multiple inheritance.\n",
        "\n",
        "It follows the C3 linearization algorithm.\n",
        "\n",
        "Retrieve MRO programmatically:\n",
        "\n",
        "You can use the __mro__ attribute or the mro() method."
      ],
      "metadata": {
        "id": "8ErveIiw6CKO"
      }
    },
    {
      "cell_type": "code",
      "source": [
        "class A: pass\n",
        "class B(A): pass\n",
        "print(B.__mro__)   # or B.mro()"
      ],
      "metadata": {
        "colab": {
          "base_uri": "https://localhost:8080/"
        },
        "id": "kidciQHE6VRR",
        "outputId": "f2c1bf30-ee52-4313-9e92-b3938de82a6c"
      },
      "execution_count": 5,
      "outputs": [
        {
          "output_type": "stream",
          "name": "stdout",
          "text": [
            "(<class '__main__.B'>, <class '__main__.A'>, <class 'object'>)\n"
          ]
        }
      ]
    },
    {
      "cell_type": "markdown",
      "source": [
        "**QUES 08.**Create an abstract base class `Shape` with an abstract method `area()`. Then create two subclasses Circle` and `Rectangle` that implement the `area()` method."
      ],
      "metadata": {
        "id": "qcHoWcg36YXc"
      }
    },
    {
      "cell_type": "code",
      "source": [
        "#ANSWER 08\n",
        "#Here's an implementation of an abstract base class Shape with an abstract method area(), and two subclasses Circle and Rectangle that implement the area() method:\n",
        "\n",
        "#python\n",
        "#Copy code\n",
        "from abc import ABC, abstractmethod\n",
        "\n",
        "class Shape(ABC):\n",
        "    @abstractmethod\n",
        "    def area(self):\n",
        "        pass\n",
        "\n",
        "class Circle(Shape):\n",
        "    def __init__(self, radius):\n",
        "        self.radius = radius\n",
        "\n",
        "    def area(self):\n",
        "        return 3.14 * self.radius * self.radius\n",
        "\n",
        "class Rectangle(Shape):\n",
        "    def __init__(self, width, height):\n",
        "        self.width = width\n",
        "        self.height = height\n",
        "\n",
        "    def area(self):\n",
        "        return self.width * self.height\n",
        "\n",
        "# Example usage:\n",
        "circle = Circle(5)\n",
        "rectangle = Rectangle(4, 6)\n",
        "print(circle.area())\n",
        "print(rectangle.area())"
      ],
      "metadata": {
        "colab": {
          "base_uri": "https://localhost:8080/"
        },
        "id": "lc52aOmV6wZO",
        "outputId": "6dba98d5-a19b-493e-d74c-fdcaee627334"
      },
      "execution_count": 6,
      "outputs": [
        {
          "output_type": "stream",
          "name": "stdout",
          "text": [
            "78.5\n",
            "24\n"
          ]
        }
      ]
    },
    {
      "cell_type": "code",
      "source": [
        "#QUESTION 9. Demonstrate polymorphism by creating a function that can work with different shape objects to calculate and print their areas.\n",
        "#ANSWER 09\n",
        "def print_area(shape):\n",
        "    print(f\"Area: {shape.area()}\")\n",
        "\n",
        "circle = Circle(5)\n",
        "rectangle = Rectangle(4, 6)\n",
        "print_area(circle)      # Works with Circle\n",
        "print_area(rectangle)   # Works with Rectangle\n",
        "#QUESTION 10. Implement encapsulation in a BankAccount class with private attributes for balance and account_number. Include methods for deposit, withdrawal, and balance inquiry.\n",
        "#ANSWER 10\n",
        "class BankAccount:\n",
        "    def __init__(self, account_number, balance=0):\n",
        "        self.__account_number = account_number  # Private\n",
        "        self.__balance = balance  # Private\n",
        "\n",
        "    def deposit(self, amount):\n",
        "        self.__balance += amount\n",
        "\n",
        "    def withdraw(self, amount):\n",
        "        if amount <= self.__balance:\n",
        "            self.__balance -= amount\n",
        "\n",
        "    def get_balance(self):\n",
        "        return self.__balance\n",
        "#QUESTION 11. Write a class that overrides the __str__ and __add__ magic methods. What will these methods allow you to do?\n",
        "#ANSWER 11\n",
        "class MyNumber:\n",
        "    def __init__(self, value):\n",
        "        self.value = value\n",
        "\n",
        "    def __str__(self):\n",
        "        return f\"MyNumber({self.value})\"\n",
        "\n",
        "    def __add__(self, other):\n",
        "        return MyNumber(self.value + other.value)\n",
        "\n",
        "# Usage\n",
        "num1 = MyNumber(5)\n",
        "num2 = MyNumber(10)\n",
        "print(num1)  # Output: MyNumber(5)\n",
        "print(num1 + num2)  # Output: MyNumber(15)\n",
        "#These methods allow you to print the object (__str__) and add two objects (__add__).\n",
        "\n",
        "#QUESTION 12. Create a decorator that measures and prints the execution time of a function.\n",
        "#ANSWER 12\n",
        "import time\n",
        "\n",
        "def execution_time(func):\n",
        "    def wrapper(*args, **kwargs):\n",
        "        start = time.time()\n",
        "        result = func(*args, **kwargs)\n",
        "        end = time.time()\n",
        "        print(f\"Execution time: {end - start} seconds\")\n",
        "        return result\n",
        "    return wrapper\n",
        "#QUESTION 13. Explain the concept of the Diamond Problem in multiple inheritance. How does Python resolve it?\n",
        "# ANSWER 13 The Diamond Problem occurs when a class inherits from two classes that share a common ancestor, causing ambiguity in method resolution. Python resolves it using Method Resolution Order (MRO), which follows the C3 linearization algorithm to determine the order in which methods are inherited.\n",
        "\n",
        "#QUESTION 14. Write a class method that keeps track of the number of instances created from a class.\n",
        "#ANSWER 14.\n",
        "class MyClass:\n",
        "    count = 0\n",
        "\n",
        "    def __init__(self):\n",
        "        MyClass.count += 1\n",
        "\n",
        "    @classmethod\n",
        "    def instance_count(cls):\n",
        "        return cls.count\n",
        "#QUESTION 15. Implement a static method in a class that checks if a given year is a leap year.\n",
        "# ANSWER 15 python\n",
        "#Copy code\n",
        "class YearChecker:\n",
        "    @staticmethod\n",
        "    def is_leap_year(year):\n",
        "        return year % 4 == 0 and (year % 100 != 0 or year % 400 == 0)"
      ],
      "metadata": {
        "colab": {
          "base_uri": "https://localhost:8080/"
        },
        "id": "fql-N-gg8Own",
        "outputId": "c3d69a56-212c-44a2-8a4b-de0ef8e319db"
      },
      "execution_count": 7,
      "outputs": [
        {
          "output_type": "stream",
          "name": "stdout",
          "text": [
            "Area: 78.5\n",
            "Area: 24\n",
            "MyNumber(5)\n",
            "MyNumber(15)\n"
          ]
        }
      ]
    }
  ]
}